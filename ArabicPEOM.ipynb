{
  "cells": [
    {
      "cell_type": "markdown",
      "metadata": {
        "id": "view-in-github",
        "colab_type": "text"
      },
      "source": [
        "<a href=\"https://colab.research.google.com/github/modisultan/Arabic_peom/blob/main/ArabicPEOM.ipynb\" target=\"_parent\"><img src=\"https://colab.research.google.com/assets/colab-badge.svg\" alt=\"Open In Colab\"/></a>"
      ]
    },
    {
      "cell_type": "code",
      "execution_count": null,
      "metadata": {
        "id": "G1I11zRDZfPd"
      },
      "outputs": [],
      "source": [
        "import pandas as pd\n",
        "import numpy as np\n",
        "import os\n",
        "import re, string\n",
        "import seaborn as sns\n",
        "\n",
        "import nltk\n",
        "from nltk.corpus import stopwords\n",
        "from nltk.tokenize import word_tokenize\n",
        "from nltk.stem import SnowballStemmer\n",
        "from keras.models import Sequential\n"
      ]
    },
    {
      "cell_type": "code",
      "execution_count": null,
      "metadata": {
        "id": "dxb59HH6Eim_"
      },
      "outputs": [],
      "source": [
        "from keras.models import Model\n",
        "from keras.layers import Embedding, Dense, Dropout, Input,Activation#, LSTM, Bidirectional\n",
        "from keras.layers import MaxPooling1D, Conv1D, Flatten, LSTM\n",
        "from keras.preprocessing import sequence#, text\n",
        "from tensorflow import keras\n",
        "from tensorflow.keras import layers\n",
        "from tensorflow.keras import losses\n",
        "from tensorflow.keras import preprocessing\n",
        "import tensorflow as tf\n",
        "from keras.models import load_model\n",
        "\n",
        "import tensorflow.python.keras.backend as K \n",
        "sess = K.get_session()"
      ]
    },
    {
      "cell_type": "code",
      "execution_count": null,
      "metadata": {
        "colab": {
          "base_uri": "https://localhost:8080/"
        },
        "id": "xNu1mp0dVKTe",
        "outputId": "3a477cd9-8a8d-4561-eba7-7c910b9e5a50"
      },
      "outputs": [
        {
          "output_type": "stream",
          "name": "stdout",
          "text": [
            "2.8.0\n",
            "2.8.0\n"
          ]
        }
      ],
      "source": [
        "import tensorflow \n",
        "print(tensorflow.__version__)\n",
        "print(keras.__version__)"
      ]
    },
    {
      "cell_type": "code",
      "execution_count": null,
      "metadata": {
        "colab": {
          "base_uri": "https://localhost:8080/"
        },
        "id": "c6zh7pDuaxJF",
        "outputId": "205027bb-12b8-40f0-a29d-92f218e62999"
      },
      "outputs": [
        {
          "output_type": "stream",
          "name": "stdout",
          "text": [
            "Mounted at /content/drive\n"
          ]
        }
      ],
      "source": [
        "from google.colab import drive\n",
        "drive.mount('/content/drive')"
      ]
    },
    {
      "cell_type": "code",
      "execution_count": null,
      "metadata": {
        "id": "r924coYjbHiI"
      },
      "outputs": [],
      "source": [
        "df =pd.read_csv('/content/drive/MyDrive/Arabic_Poems/train.csv', delimiter=',')"
      ]
    },
    {
      "cell_type": "code",
      "execution_count": null,
      "metadata": {
        "colab": {
          "base_uri": "https://localhost:8080/",
          "height": 206
        },
        "id": "mykMNcHSltjI",
        "outputId": "731013b5-ffd8-4f6e-84dc-371da565d5b8"
      },
      "outputs": [
        {
          "data": {
            "text/html": [
              "\n",
              "  <div id=\"df-71154ec2-562d-431a-ac1a-bce4d05a3ac3\">\n",
              "    <div class=\"colab-df-container\">\n",
              "      <div>\n",
              "<style scoped>\n",
              "    .dataframe tbody tr th:only-of-type {\n",
              "        vertical-align: middle;\n",
              "    }\n",
              "\n",
              "    .dataframe tbody tr th {\n",
              "        vertical-align: top;\n",
              "    }\n",
              "\n",
              "    .dataframe thead th {\n",
              "        text-align: right;\n",
              "    }\n",
              "</style>\n",
              "<table border=\"1\" class=\"dataframe\">\n",
              "  <thead>\n",
              "    <tr style=\"text-align: right;\">\n",
              "      <th></th>\n",
              "      <th>poem_id</th>\n",
              "      <th>poem_link</th>\n",
              "      <th>poem_style</th>\n",
              "      <th>poem_text</th>\n",
              "      <th>poem_title</th>\n",
              "      <th>poet_cat</th>\n",
              "      <th>poet_id</th>\n",
              "      <th>poet_link</th>\n",
              "      <th>poet_name</th>\n",
              "    </tr>\n",
              "  </thead>\n",
              "  <tbody>\n",
              "    <tr>\n",
              "      <th>0</th>\n",
              "      <td>21</td>\n",
              "      <td>http://www.adab.com/modules.php?name=Sh3er&amp;doW...</td>\n",
              "      <td>فصحى</td>\n",
              "      <td>عيناك غابتا نخيل ساعة السحر او شرفتان راح يناي...</td>\n",
              "      <td>أنشودة المطر</td>\n",
              "      <td>العراق</td>\n",
              "      <td>2</td>\n",
              "      <td>http://www.adab.com/modules.php?name=Sh3er&amp;doW...</td>\n",
              "      <td>بدر شاكر السياب</td>\n",
              "    </tr>\n",
              "    <tr>\n",
              "      <th>1</th>\n",
              "      <td>65546</td>\n",
              "      <td>http://www.adab.com/modules.php?name=Sh3er&amp;doW...</td>\n",
              "      <td>فصحى</td>\n",
              "      <td>انا لا ازال و في يدي قدحي ياليل اين تفرق الشر...</td>\n",
              "      <td>أقداح و أحلام</td>\n",
              "      <td>العراق</td>\n",
              "      <td>2</td>\n",
              "      <td>http://www.adab.com/modules.php?name=Sh3er&amp;doW...</td>\n",
              "      <td>بدر شاكر السياب</td>\n",
              "    </tr>\n",
              "    <tr>\n",
              "      <th>2</th>\n",
              "      <td>65561</td>\n",
              "      <td>http://www.adab.com/modules.php?name=Sh3er&amp;doW...</td>\n",
              "      <td>فصحى</td>\n",
              "      <td>علي مقلتيك ارتشفت النجوم وعانقت امالي الايبة و...</td>\n",
              "      <td>هوى واحد !</td>\n",
              "      <td>العراق</td>\n",
              "      <td>2</td>\n",
              "      <td>http://www.adab.com/modules.php?name=Sh3er&amp;doW...</td>\n",
              "      <td>بدر شاكر السياب</td>\n",
              "    </tr>\n",
              "    <tr>\n",
              "      <th>3</th>\n",
              "      <td>66170</td>\n",
              "      <td>http://www.adab.com/modules.php?name=Sh3er&amp;doW...</td>\n",
              "      <td>فصحى</td>\n",
              "      <td>لا تزيديه لوعة فهو يلقاك لينسي لديك بعض اكتءا...</td>\n",
              "      <td>لا تزيديه لوعة</td>\n",
              "      <td>العراق</td>\n",
              "      <td>2</td>\n",
              "      <td>http://www.adab.com/modules.php?name=Sh3er&amp;doW...</td>\n",
              "      <td>بدر شاكر السياب</td>\n",
              "    </tr>\n",
              "    <tr>\n",
              "      <th>4</th>\n",
              "      <td>66171</td>\n",
              "      <td>http://www.adab.com/modules.php?name=Sh3er&amp;doW...</td>\n",
              "      <td>فصحى</td>\n",
              "      <td>عطرت احلامي بهذا الشذي من شعرك المسترسل الاسو...</td>\n",
              "      <td>عبير</td>\n",
              "      <td>العراق</td>\n",
              "      <td>2</td>\n",
              "      <td>http://www.adab.com/modules.php?name=Sh3er&amp;doW...</td>\n",
              "      <td>بدر شاكر السياب</td>\n",
              "    </tr>\n",
              "  </tbody>\n",
              "</table>\n",
              "</div>\n",
              "      <button class=\"colab-df-convert\" onclick=\"convertToInteractive('df-71154ec2-562d-431a-ac1a-bce4d05a3ac3')\"\n",
              "              title=\"Convert this dataframe to an interactive table.\"\n",
              "              style=\"display:none;\">\n",
              "        \n",
              "  <svg xmlns=\"http://www.w3.org/2000/svg\" height=\"24px\"viewBox=\"0 0 24 24\"\n",
              "       width=\"24px\">\n",
              "    <path d=\"M0 0h24v24H0V0z\" fill=\"none\"/>\n",
              "    <path d=\"M18.56 5.44l.94 2.06.94-2.06 2.06-.94-2.06-.94-.94-2.06-.94 2.06-2.06.94zm-11 1L8.5 8.5l.94-2.06 2.06-.94-2.06-.94L8.5 2.5l-.94 2.06-2.06.94zm10 10l.94 2.06.94-2.06 2.06-.94-2.06-.94-.94-2.06-.94 2.06-2.06.94z\"/><path d=\"M17.41 7.96l-1.37-1.37c-.4-.4-.92-.59-1.43-.59-.52 0-1.04.2-1.43.59L10.3 9.45l-7.72 7.72c-.78.78-.78 2.05 0 2.83L4 21.41c.39.39.9.59 1.41.59.51 0 1.02-.2 1.41-.59l7.78-7.78 2.81-2.81c.8-.78.8-2.07 0-2.86zM5.41 20L4 18.59l7.72-7.72 1.47 1.35L5.41 20z\"/>\n",
              "  </svg>\n",
              "      </button>\n",
              "      \n",
              "  <style>\n",
              "    .colab-df-container {\n",
              "      display:flex;\n",
              "      flex-wrap:wrap;\n",
              "      gap: 12px;\n",
              "    }\n",
              "\n",
              "    .colab-df-convert {\n",
              "      background-color: #E8F0FE;\n",
              "      border: none;\n",
              "      border-radius: 50%;\n",
              "      cursor: pointer;\n",
              "      display: none;\n",
              "      fill: #1967D2;\n",
              "      height: 32px;\n",
              "      padding: 0 0 0 0;\n",
              "      width: 32px;\n",
              "    }\n",
              "\n",
              "    .colab-df-convert:hover {\n",
              "      background-color: #E2EBFA;\n",
              "      box-shadow: 0px 1px 2px rgba(60, 64, 67, 0.3), 0px 1px 3px 1px rgba(60, 64, 67, 0.15);\n",
              "      fill: #174EA6;\n",
              "    }\n",
              "\n",
              "    [theme=dark] .colab-df-convert {\n",
              "      background-color: #3B4455;\n",
              "      fill: #D2E3FC;\n",
              "    }\n",
              "\n",
              "    [theme=dark] .colab-df-convert:hover {\n",
              "      background-color: #434B5C;\n",
              "      box-shadow: 0px 1px 3px 1px rgba(0, 0, 0, 0.15);\n",
              "      filter: drop-shadow(0px 1px 2px rgba(0, 0, 0, 0.3));\n",
              "      fill: #FFFFFF;\n",
              "    }\n",
              "  </style>\n",
              "\n",
              "      <script>\n",
              "        const buttonEl =\n",
              "          document.querySelector('#df-71154ec2-562d-431a-ac1a-bce4d05a3ac3 button.colab-df-convert');\n",
              "        buttonEl.style.display =\n",
              "          google.colab.kernel.accessAllowed ? 'block' : 'none';\n",
              "\n",
              "        async function convertToInteractive(key) {\n",
              "          const element = document.querySelector('#df-71154ec2-562d-431a-ac1a-bce4d05a3ac3');\n",
              "          const dataTable =\n",
              "            await google.colab.kernel.invokeFunction('convertToInteractive',\n",
              "                                                     [key], {});\n",
              "          if (!dataTable) return;\n",
              "\n",
              "          const docLinkHtml = 'Like what you see? Visit the ' +\n",
              "            '<a target=\"_blank\" href=https://colab.research.google.com/notebooks/data_table.ipynb>data table notebook</a>'\n",
              "            + ' to learn more about interactive tables.';\n",
              "          element.innerHTML = '';\n",
              "          dataTable['output_type'] = 'display_data';\n",
              "          await google.colab.output.renderOutput(dataTable, element);\n",
              "          const docLink = document.createElement('div');\n",
              "          docLink.innerHTML = docLinkHtml;\n",
              "          element.appendChild(docLink);\n",
              "        }\n",
              "      </script>\n",
              "    </div>\n",
              "  </div>\n",
              "  "
            ],
            "text/plain": [
              "   poem_id  ...        poet_name\n",
              "0       21  ...  بدر شاكر السياب\n",
              "1    65546  ...  بدر شاكر السياب\n",
              "2    65561  ...  بدر شاكر السياب\n",
              "3    66170  ...  بدر شاكر السياب\n",
              "4    66171  ...  بدر شاكر السياب\n",
              "\n",
              "[5 rows x 9 columns]"
            ]
          },
          "execution_count": 6,
          "metadata": {},
          "output_type": "execute_result"
        }
      ],
      "source": [
        "df.head()"
      ]
    },
    {
      "cell_type": "code",
      "execution_count": null,
      "metadata": {
        "id": "FQUMpC0B8166"
      },
      "outputs": [],
      "source": [
        ""
      ]
    },
    {
      "cell_type": "code",
      "execution_count": null,
      "metadata": {
        "colab": {
          "base_uri": "https://localhost:8080/",
          "height": 206
        },
        "id": "XOEHDBRaoLL_",
        "outputId": "4d9bc0e7-25c7-4ad7-e494-e95bb26bd5df"
      },
      "outputs": [
        {
          "data": {
            "text/html": [
              "<div>\n",
              "<style scoped>\n",
              "    .dataframe tbody tr th:only-of-type {\n",
              "        vertical-align: middle;\n",
              "    }\n",
              "\n",
              "    .dataframe tbody tr th {\n",
              "        vertical-align: top;\n",
              "    }\n",
              "\n",
              "    .dataframe thead th {\n",
              "        text-align: right;\n",
              "    }\n",
              "</style>\n",
              "<table border=\"1\" class=\"dataframe\">\n",
              "  <thead>\n",
              "    <tr style=\"text-align: right;\">\n",
              "      <th></th>\n",
              "      <th>poem_id</th>\n",
              "      <th>poem_link</th>\n",
              "      <th>poem_style</th>\n",
              "      <th>poem_text</th>\n",
              "      <th>poem_title</th>\n",
              "      <th>poet_cat</th>\n",
              "      <th>poet_id</th>\n",
              "      <th>poet_link</th>\n",
              "      <th>poet_name</th>\n",
              "    </tr>\n",
              "  </thead>\n",
              "  <tbody>\n",
              "    <tr>\n",
              "      <th>57807</th>\n",
              "      <td>86613</td>\n",
              "      <td>http://www.adab.com/modules.php?name=Sh3er&amp;doW...</td>\n",
              "      <td>فصحى</td>\n",
              "      <td>لروح صهيل لا تحويه الاوقات ذنبك انك تمتد علي ا...</td>\n",
              "      <td>الوقت</td>\n",
              "      <td>سوريا</td>\n",
              "      <td>755</td>\n",
              "      <td>http://www.adab.com/modules.php?name=Sh3er&amp;doW...</td>\n",
              "      <td>عز الدين اليوسف</td>\n",
              "    </tr>\n",
              "    <tr>\n",
              "      <th>57808</th>\n",
              "      <td>86614</td>\n",
              "      <td>http://www.adab.com/modules.php?name=Sh3er&amp;doW...</td>\n",
              "      <td>فصحى</td>\n",
              "      <td>اه لو اني ابني الشمس بعيني من طين هواء وسراب م...</td>\n",
              "      <td>الفلاح</td>\n",
              "      <td>سوريا</td>\n",
              "      <td>755</td>\n",
              "      <td>http://www.adab.com/modules.php?name=Sh3er&amp;doW...</td>\n",
              "      <td>عز الدين اليوسف</td>\n",
              "    </tr>\n",
              "    <tr>\n",
              "      <th>57809</th>\n",
              "      <td>86615</td>\n",
              "      <td>http://www.adab.com/modules.php?name=Sh3er&amp;doW...</td>\n",
              "      <td>فصحى</td>\n",
              "      <td>في عينيك يا امي لماذا الدمع منتظم كعقد الءلء ا...</td>\n",
              "      <td>أمّي</td>\n",
              "      <td>سوريا</td>\n",
              "      <td>755</td>\n",
              "      <td>http://www.adab.com/modules.php?name=Sh3er&amp;doW...</td>\n",
              "      <td>عز الدين اليوسف</td>\n",
              "    </tr>\n",
              "    <tr>\n",
              "      <th>57810</th>\n",
              "      <td>86616</td>\n",
              "      <td>http://www.adab.com/modules.php?name=Sh3er&amp;doW...</td>\n",
              "      <td>فصحى</td>\n",
              "      <td>النوم يوقظ طرفي الظامي علي لحن تموج من بعيد ار...</td>\n",
              "      <td>عن اللحن</td>\n",
              "      <td>سوريا</td>\n",
              "      <td>755</td>\n",
              "      <td>http://www.adab.com/modules.php?name=Sh3er&amp;doW...</td>\n",
              "      <td>عز الدين اليوسف</td>\n",
              "    </tr>\n",
              "    <tr>\n",
              "      <th>57811</th>\n",
              "      <td>86617</td>\n",
              "      <td>http://www.adab.com/modules.php?name=Sh3er&amp;doW...</td>\n",
              "      <td>فصحى</td>\n",
              "      <td>السلم الذي نزلت فيه لسماء سلم من الجنان جاء او...</td>\n",
              "      <td>السلم</td>\n",
              "      <td>سوريا</td>\n",
              "      <td>755</td>\n",
              "      <td>http://www.adab.com/modules.php?name=Sh3er&amp;doW...</td>\n",
              "      <td>عز الدين اليوسف</td>\n",
              "    </tr>\n",
              "  </tbody>\n",
              "</table>\n",
              "</div>"
            ],
            "text/plain": [
              "       poem_id                                          poem_link poem_style  \\\n",
              "57807    86613  http://www.adab.com/modules.php?name=Sh3er&doW...       فصحى   \n",
              "57808    86614  http://www.adab.com/modules.php?name=Sh3er&doW...       فصحى   \n",
              "57809    86615  http://www.adab.com/modules.php?name=Sh3er&doW...       فصحى   \n",
              "57810    86616  http://www.adab.com/modules.php?name=Sh3er&doW...       فصحى   \n",
              "57811    86617  http://www.adab.com/modules.php?name=Sh3er&doW...       فصحى   \n",
              "\n",
              "                                               poem_text poem_title poet_cat  \\\n",
              "57807  لروح صهيل لا تحويه الاوقات ذنبك انك تمتد علي ا...      الوقت    سوريا   \n",
              "57808  اه لو اني ابني الشمس بعيني من طين هواء وسراب م...     الفلاح    سوريا   \n",
              "57809  في عينيك يا امي لماذا الدمع منتظم كعقد الءلء ا...       أمّي    سوريا   \n",
              "57810  النوم يوقظ طرفي الظامي علي لحن تموج من بعيد ار...   عن اللحن    سوريا   \n",
              "57811  السلم الذي نزلت فيه لسماء سلم من الجنان جاء او...      السلم    سوريا   \n",
              "\n",
              "       poet_id                                          poet_link  \\\n",
              "57807      755  http://www.adab.com/modules.php?name=Sh3er&doW...   \n",
              "57808      755  http://www.adab.com/modules.php?name=Sh3er&doW...   \n",
              "57809      755  http://www.adab.com/modules.php?name=Sh3er&doW...   \n",
              "57810      755  http://www.adab.com/modules.php?name=Sh3er&doW...   \n",
              "57811      755  http://www.adab.com/modules.php?name=Sh3er&doW...   \n",
              "\n",
              "             poet_name  \n",
              "57807  عز الدين اليوسف  \n",
              "57808  عز الدين اليوسف  \n",
              "57809  عز الدين اليوسف  \n",
              "57810  عز الدين اليوسف  \n",
              "57811  عز الدين اليوسف  "
            ]
          },
          "execution_count": 7,
          "metadata": {},
          "output_type": "execute_result"
        }
      ],
      "source": [
        "df.tail()"
      ]
    },
    {
      "cell_type": "code",
      "execution_count": null,
      "metadata": {
        "colab": {
          "base_uri": "https://localhost:8080/"
        },
        "id": "_vHgbgnUxjVj",
        "outputId": "56a22845-f077-47e7-b1d6-829d3fe8b049"
      },
      "outputs": [
        {
          "name": "stdout",
          "output_type": "stream",
          "text": [
            "<class 'pandas.core.frame.DataFrame'>\n",
            "RangeIndex: 57812 entries, 0 to 57811\n",
            "Data columns (total 9 columns):\n",
            " #   Column      Non-Null Count  Dtype \n",
            "---  ------      --------------  ----- \n",
            " 0   poem_id     57812 non-null  int64 \n",
            " 1   poem_link   57812 non-null  object\n",
            " 2   poem_style  57812 non-null  object\n",
            " 3   poem_text   57809 non-null  object\n",
            " 4   poem_title  57810 non-null  object\n",
            " 5   poet_cat    57812 non-null  object\n",
            " 6   poet_id     57812 non-null  int64 \n",
            " 7   poet_link   57812 non-null  object\n",
            " 8   poet_name   57812 non-null  object\n",
            "dtypes: int64(2), object(7)\n",
            "memory usage: 4.0+ MB\n"
          ]
        }
      ],
      "source": [
        "df.info()"
      ]
    },
    {
      "cell_type": "code",
      "execution_count": null,
      "metadata": {
        "colab": {
          "base_uri": "https://localhost:8080/",
          "height": 300
        },
        "id": "N3TGNO4Oz8UA",
        "outputId": "9800d3fb-aa7f-4e6a-b1c4-68eaeccf2452"
      },
      "outputs": [
        {
          "data": {
            "text/html": [
              "<div>\n",
              "<style scoped>\n",
              "    .dataframe tbody tr th:only-of-type {\n",
              "        vertical-align: middle;\n",
              "    }\n",
              "\n",
              "    .dataframe tbody tr th {\n",
              "        vertical-align: top;\n",
              "    }\n",
              "\n",
              "    .dataframe thead th {\n",
              "        text-align: right;\n",
              "    }\n",
              "</style>\n",
              "<table border=\"1\" class=\"dataframe\">\n",
              "  <thead>\n",
              "    <tr style=\"text-align: right;\">\n",
              "      <th></th>\n",
              "      <th>poem_id</th>\n",
              "      <th>poet_id</th>\n",
              "    </tr>\n",
              "  </thead>\n",
              "  <tbody>\n",
              "    <tr>\n",
              "      <th>count</th>\n",
              "      <td>57812.000000</td>\n",
              "      <td>57812.000000</td>\n",
              "    </tr>\n",
              "    <tr>\n",
              "      <th>mean</th>\n",
              "      <td>45990.979848</td>\n",
              "      <td>292.970750</td>\n",
              "    </tr>\n",
              "    <tr>\n",
              "      <th>std</th>\n",
              "      <td>28687.170834</td>\n",
              "      <td>168.484804</td>\n",
              "    </tr>\n",
              "    <tr>\n",
              "      <th>min</th>\n",
              "      <td>10.000000</td>\n",
              "      <td>2.000000</td>\n",
              "    </tr>\n",
              "    <tr>\n",
              "      <th>25%</th>\n",
              "      <td>16674.750000</td>\n",
              "      <td>173.000000</td>\n",
              "    </tr>\n",
              "    <tr>\n",
              "      <th>50%</th>\n",
              "      <td>56724.500000</td>\n",
              "      <td>247.000000</td>\n",
              "    </tr>\n",
              "    <tr>\n",
              "      <th>75%</th>\n",
              "      <td>71700.250000</td>\n",
              "      <td>423.000000</td>\n",
              "    </tr>\n",
              "    <tr>\n",
              "      <th>max</th>\n",
              "      <td>86650.000000</td>\n",
              "      <td>755.000000</td>\n",
              "    </tr>\n",
              "  </tbody>\n",
              "</table>\n",
              "</div>"
            ],
            "text/plain": [
              "            poem_id       poet_id\n",
              "count  57812.000000  57812.000000\n",
              "mean   45990.979848    292.970750\n",
              "std    28687.170834    168.484804\n",
              "min       10.000000      2.000000\n",
              "25%    16674.750000    173.000000\n",
              "50%    56724.500000    247.000000\n",
              "75%    71700.250000    423.000000\n",
              "max    86650.000000    755.000000"
            ]
          },
          "execution_count": 9,
          "metadata": {},
          "output_type": "execute_result"
        }
      ],
      "source": [
        "df.describe()"
      ]
    },
    {
      "cell_type": "code",
      "execution_count": null,
      "metadata": {
        "colab": {
          "base_uri": "https://localhost:8080/"
        },
        "id": "WM8_WYKOxobF",
        "outputId": "bc8868ee-77b6-4911-f803-8251fc847178"
      },
      "outputs": [
        {
          "data": {
            "text/plain": [
              "poem_id       0\n",
              "poem_link     0\n",
              "poem_style    0\n",
              "poem_text     3\n",
              "poem_title    2\n",
              "poet_cat      0\n",
              "poet_id       0\n",
              "poet_link     0\n",
              "poet_name     0\n",
              "dtype: int64"
            ]
          },
          "execution_count": 10,
          "metadata": {},
          "output_type": "execute_result"
        }
      ],
      "source": [
        "df.isna().sum()"
      ]
    },
    {
      "cell_type": "code",
      "execution_count": null,
      "metadata": {
        "id": "Blvo-CeYyW7F"
      },
      "outputs": [],
      "source": [
        "df.dropna(inplace=True)"
      ]
    },
    {
      "cell_type": "code",
      "execution_count": null,
      "metadata": {
        "colab": {
          "base_uri": "https://localhost:8080/"
        },
        "id": "6Oj1FiONysKx",
        "outputId": "4a09126b-73be-401e-f7b7-a8e45b183c5a"
      },
      "outputs": [
        {
          "data": {
            "text/plain": [
              "0"
            ]
          },
          "execution_count": 12,
          "metadata": {},
          "output_type": "execute_result"
        }
      ],
      "source": [
        "sum(df.duplicated())"
      ]
    },
    {
      "cell_type": "code",
      "execution_count": null,
      "metadata": {
        "colab": {
          "base_uri": "https://localhost:8080/"
        },
        "id": "ehDL_zkoyyi_",
        "outputId": "a80f30f2-d8e4-416a-d56d-824c6c31e463"
      },
      "outputs": [
        {
          "data": {
            "text/plain": [
              "173    2135\n",
              "117    1587\n",
              "195    1534\n",
              "247    1140\n",
              "263    1115\n",
              "       ... \n",
              "479       1\n",
              "662       1\n",
              "348       1\n",
              "349       1\n",
              "310       1\n",
              "Name: poet_id, Length: 652, dtype: int64"
            ]
          },
          "execution_count": 13,
          "metadata": {},
          "output_type": "execute_result"
        }
      ],
      "source": [
        "df.poet_id.value_counts()"
      ]
    },
    {
      "cell_type": "code",
      "execution_count": null,
      "metadata": {
        "colab": {
          "base_uri": "https://localhost:8080/"
        },
        "id": "2uZP3HH8VmHJ",
        "outputId": "9b8aaf9f-7958-4dcc-fe8a-3551e7ef28b8"
      },
      "outputs": [
        {
          "data": {
            "text/plain": [
              "ابن الرومي            2135\n",
              "أبوالعلاء المعري      1587\n",
              "ابن نباتة المصري      1534\n",
              "جبران خليل جبران      1140\n",
              "عبد الغني النابلسي    1115\n",
              "                      ... \n",
              "محمد التهامي             1\n",
              "إبراهيم خيكي             1\n",
              "الحصري القيرواني         1\n",
              "دوقلة المنبجي            1\n",
              "حميد سعيد                1\n",
              "Name: poet_name, Length: 652, dtype: int64"
            ]
          },
          "execution_count": 14,
          "metadata": {},
          "output_type": "execute_result"
        }
      ],
      "source": [
        "df.poet_name.value_counts()"
      ]
    },
    {
      "cell_type": "code",
      "execution_count": null,
      "metadata": {
        "colab": {
          "base_uri": "https://localhost:8080/",
          "height": 404
        },
        "id": "CDth5Ax9zgo5",
        "outputId": "339135c1-f03b-4320-acfe-e556953b4a55"
      },
      "outputs": [
        {
          "data": {
            "text/plain": [
              "<AxesSubplot:xlabel='poet_cat'>"
            ]
          },
          "execution_count": 15,
          "metadata": {},
          "output_type": "execute_result"
        },
        {
          "data": {
            "image/png": "[encoded data removed]",
            "text/plain": [
              "<Figure size 576x288 with 1 Axes>"
            ]
          },
          "metadata": {},
          "output_type": "display_data"
        }
      ],
      "source": [
        "df.groupby('poet_cat')['poet_id'].sum().sort_values(ascending=False).plot(kind='bar',figsize=(8,4))\n"
      ]
    },
    {
      "cell_type": "code",
      "execution_count": null,
      "metadata": {
        "id": "CYs_Yx0e0VVL"
      },
      "outputs": [],
      "source": [
        "def preprocess(text):\n",
        "    text = text.lower() #lowercase text\n",
        "    text = text.strip()  #get rid of leading/trailing whitespace \n",
        "    text = re.compile('<.*?>').sub('', text) #Remove HTML tags/markups\n",
        "    text = re.compile('[%s]' % re.escape(string.punctuation)).sub('', text)  #Replace punctuation with space. Careful since punctuation can sometime be useful\n",
        "    text = re.sub('\\s+', ' ', text)  #Remove extra space and tabs\n",
        "    text = re.sub(r'\\[[0-9]*\\]',' ',text) #[0-9] matches any digit (0 to 10000...)\n",
        "    text = re.sub(r'[^\\w\\s]', '', str(text).lower().strip())\n",
        "    text = re.sub(r'\\d',' ',text) #matches any digit from 0 to 100000..., \\D matches non-digits\n",
        "    text = re.sub(r'\\s+',' ',text) #\\s matches any whitespace, \\s+ matches multiple whitespace, \\S matches non-whitespace \n",
        "\n",
        "    return text\n",
        "\n",
        "def stopword(string):\n",
        "    a= [i for i in string.split() if i not in stopwords.words('arabic')]\n",
        "    return ' '.join(a)\n",
        "\n",
        "#https://alraqmiyyat.github.io/2013/01-02.html\n",
        "def lemmatizArabic(text):\n",
        "    text = re.sub(\"[إأٱآا]\", \"ا\", text)\n",
        "    text = re.sub(\"ى\", \"ي\", text)\n",
        "    text = re.sub(\"ؤ\", \"ء\", text)\n",
        "    text = re.sub(\"ئ\", \"ء\", text)\n",
        "    return(text)\n",
        "\n",
        "#https://alraqmiyyat.github.io/2013/01-02.html\n",
        "def deNoise(text):\n",
        "    noise = re.compile(\"\"\"   ّ    | # Tashdid\n",
        "                             َ    | # Fatha\n",
        "                             ً    | # Tanwin Fath\n",
        "                             ُ    | # Damma\n",
        "                             ٌ    | # Tanwin Damm\n",
        "                             ِ    | # Kasra\n",
        "                             ٍ    | # Tanwin Kasr\n",
        "                             ْ    | # Sukun\n",
        "                             ـ     # Tatwil/Kashida\n",
        "                         \"\"\", re.VERBOSE)\n",
        "    text = re.sub(noise, '', text)\n",
        "    return text"
      ]
    },
    {
      "cell_type": "code",
      "execution_count": null,
      "metadata": {
        "id": "BviCg_bR7765",
        "outputId": "0e052346-2fce-4ce6-e711-1faf990774f4"
      },
      "outputs": [
        {
          "data": {
            "text/plain": [
              "0        عيناك غابتا نخيل ساعة السحر او شرفتان يناي عنه...\n",
              "1        انا ازال يدي قدحي ياليل اين تفرق الشرب زلت اشر...\n",
              "2        علي مقلتيك ارتشفت النجوم وعانقت امالي الايبة و...\n",
              "3        تزيديه لوعة فهو يلقاك لينسي لديك اكتءابه قربي ...\n",
              "4        عطرت احلامي بهذا الشذي شعرك المسترسل الاسود ال...\n",
              "                               ...                        \n",
              "57807    لروح صهيل تحويه الاوقات ذنبك انك تمتد علي اكتا...\n",
              "57808    اه اني ابني الشمس بعيني طين هواء وسراب ماء يذب...\n",
              "57809    عينيك امي لماذا الدمع منتظم كعقد الءلء المرمي ...\n",
              "57810    النوم يوقظ طرفي الظامي علي لحن تموج بعيد ارمي ...\n",
              "57811    السلم نزلت لسماء سلم الجنان جاء اوراقه كتاب رح...\n",
              "Name: poem_text, Length: 57807, dtype: object"
            ]
          },
          "execution_count": 17,
          "metadata": {},
          "output_type": "execute_result"
        }
      ],
      "source": [
        "df.poem_text=df.poem_text.apply(preprocess)\n",
        "df.poem_text=df.poem_text.apply(stopword)\n",
        "df.poem_text=df.poem_text.apply(lemmatizArabic)\n",
        "df.poem_text=df.poem_text.apply(deNoise)\n",
        "df.poem_text"
      ]
    },
    {
      "cell_type": "code",
      "execution_count": null,
      "metadata": {
        "id": "gvSeLBy9zSkW"
      },
      "outputs": [],
      "source": [
        "#df.to_csv(\"AllDataAfterCleanPoem.csv\")"
      ]
    },
    {
      "cell_type": "code",
      "execution_count": null,
      "metadata": {
        "id": "6x079bqTzSkW"
      },
      "outputs": [],
      "source": [
        "df = pd.read_csv('/content/drive/MyDrive/Arabic_Poems/AllDataAfterCleanPoem.csv')"
      ]
    },
    {
      "cell_type": "code",
      "execution_count": null,
      "metadata": {
        "colab": {
          "base_uri": "https://localhost:8080/"
        },
        "id": "WYSNVtHsDMMn",
        "outputId": "6140a6bd-3cf3-41e1-cdc0-450377d160df"
      },
      "outputs": [
        {
          "output_type": "execute_result",
          "data": {
            "text/plain": [
              "2895"
            ]
          },
          "metadata": {},
          "execution_count": 6
        }
      ],
      "source": [
        "len(df.poem_text[1])"
      ]
    },
    {
      "cell_type": "code",
      "execution_count": null,
      "metadata": {
        "id": "rNJSCWLcPjZJ"
      },
      "outputs": [],
      "source": [
        "from collections import Counter\n",
        "\n",
        "# Count unique words\n",
        "def counter_word(poem_text):\n",
        "    count = Counter()\n",
        "    for text in poem_text.values:\n",
        "        for word in text.split():\n",
        "            count[word] += 1\n",
        "    return count\n",
        "\n",
        "\n",
        "counter = counter_word(df.poem_text)"
      ]
    },
    {
      "cell_type": "code",
      "execution_count": null,
      "metadata": {
        "id": "DclV3foq2j1k"
      },
      "outputs": [],
      "source": [
        "#x = df.poem_text\n",
        "#y = df.poet_name\n",
        "\n"
      ]
    },
    {
      "cell_type": "code",
      "execution_count": null,
      "metadata": {
        "id": "M_VUtZ9q3P1j"
      },
      "outputs": [],
      "source": [
        "#from sklearn import preprocessing, model_selection\n",
        "\n",
        "#x_train, x_val, y_train, y_val = model_selection.train_test_split(x,y,test_size=0.4, random_state=1000)"
      ]
    },
    {
      "cell_type": "code",
      "execution_count": null,
      "metadata": {
        "colab": {
          "base_uri": "https://localhost:8080/"
        },
        "id": "pqHT6e6fTE1d",
        "outputId": "e8af4375-20b6-4bc0-ea59-0f54b36b2442"
      },
      "outputs": [
        {
          "output_type": "execute_result",
          "data": {
            "text/plain": [
              "504941"
            ]
          },
          "metadata": {},
          "execution_count": 11
        }
      ],
      "source": [
        "len(counter)"
      ]
    },
    {
      "cell_type": "code",
      "execution_count": null,
      "metadata": {
        "colab": {
          "base_uri": "https://localhost:8080/"
        },
        "id": "2vt20keeTLpD",
        "outputId": "7b8b33d9-3e9c-4bdc-9124-701947b3c0bb"
      },
      "outputs": [
        {
          "output_type": "execute_result",
          "data": {
            "text/plain": [
              "[('علي', 86473), ('ان', 75764), ('الي', 42327), ('اذا', 40046), ('او', 27211)]"
            ]
          },
          "metadata": {},
          "execution_count": 12
        }
      ],
      "source": [
        "counter.most_common(5)"
      ]
    },
    {
      "cell_type": "code",
      "execution_count": null,
      "metadata": {
        "colab": {
          "base_uri": "https://localhost:8080/"
        },
        "id": "J9n-PVF8TN24",
        "outputId": "6259d858-28a8-4742-cf84-a09263a5a9d7"
      },
      "outputs": [
        {
          "output_type": "execute_result",
          "data": {
            "text/plain": [
              "504941"
            ]
          },
          "metadata": {},
          "execution_count": 13
        }
      ],
      "source": [
        "num_unique_words = len(counter)\n",
        "num_unique_words"
      ]
    },
    {
      "cell_type": "code",
      "execution_count": null,
      "metadata": {
        "id": "QkiCrXz-RK1R"
      },
      "outputs": [],
      "source": [
        "# Tokenize\n",
        "from tensorflow.keras.preprocessing.text import Tokenizer\n",
        "\n",
        "# vectorize a text corpus by turning each text into a sequence of integers\n",
        "tokenizer = Tokenizer(num_words=num_unique_words)\n",
        "tokenizer.fit_on_texts(df.poem_text.values) # fit only to training"
      ]
    },
    {
      "cell_type": "code",
      "execution_count": null,
      "metadata": {
        "id": "m82gXm1STazo"
      },
      "outputs": [],
      "source": [
        "# each word has unique index\n",
        "word_index = tokenizer.word_index"
      ]
    },
    {
      "cell_type": "code",
      "execution_count": null,
      "metadata": {
        "colab": {
          "base_uri": "https://localhost:8080/"
        },
        "id": "fGNQbkSsThdT",
        "outputId": "f2426183-bd9d-4b2a-c26d-039c4af97688"
      },
      "outputs": [
        {
          "output_type": "stream",
          "name": "stdout",
          "text": [
            "Shape of data tensor: (57807, 5000)\n"
          ]
        }
      ],
      "source": [
        "from keras.preprocessing.sequence import pad_sequences\n",
        "\n",
        "MAX_SEQUENCE_LENGTH = 5000\n",
        "X = tokenizer.texts_to_sequences(df.poem_text.values)\n",
        "X = pad_sequences(X, maxlen=MAX_SEQUENCE_LENGTH)\n",
        "print('Shape of data tensor:', X.shape)\n"
      ]
    },
    {
      "cell_type": "code",
      "execution_count": null,
      "metadata": {
        "colab": {
          "base_uri": "https://localhost:8080/"
        },
        "id": "1oziJqh-Ebe_",
        "outputId": "e11db5ce-fbdd-470a-8dad-fac0d404acc8"
      },
      "outputs": [
        {
          "output_type": "stream",
          "name": "stdout",
          "text": [
            "Shape of label tensor: (57807, 652)\n"
          ]
        }
      ],
      "source": [
        "Y = pd.get_dummies(df['poet_name']).values\n",
        "print('Shape of label tensor:', Y.shape)"
      ]
    },
    {
      "cell_type": "code",
      "execution_count": null,
      "metadata": {
        "colab": {
          "base_uri": "https://localhost:8080/"
        },
        "id": "ZmGPoSvOErsL",
        "outputId": "49ae3d1f-00ec-4136-c137-df6656d19db3"
      },
      "outputs": [
        {
          "output_type": "stream",
          "name": "stdout",
          "text": [
            "(46245, 5000) (46245, 652)\n",
            "(11562, 5000) (11562, 652)\n"
          ]
        }
      ],
      "source": [
        "from sklearn.model_selection import train_test_split\n",
        "X_train, X_val, Y_train, Y_val = train_test_split(X,Y, test_size = 0.20, random_state = 42)\n",
        "print(X_train.shape,Y_train.shape)\n",
        "print(X_val.shape,Y_val.shape)"
      ]
    },
    {
      "cell_type": "code",
      "execution_count": null,
      "metadata": {
        "id": "VnRzBVPL4e_p"
      },
      "outputs": [],
      "source": [
        "from keras.layers.core import Dense, SpatialDropout1D\n",
        "from keras.callbacks import ModelCheckpoint, EarlyStopping\n"
      ]
    },
    {
      "cell_type": "code",
      "execution_count": null,
      "metadata": {
        "id": "4ckGCvqm7rqU"
      },
      "outputs": [],
      "source": [
        "#!pip install sentence_transformers "
      ]
    },
    {
      "cell_type": "code",
      "execution_count": null,
      "metadata": {
        "colab": {
          "base_uri": "https://localhost:8080/"
        },
        "id": "2iBF-Vt-FkgS",
        "outputId": "21505cdf-0e9d-4bd6-ce15-99bf531ee85e"
      },
      "outputs": [
        {
          "output_type": "stream",
          "name": "stdout",
          "text": [
            "WARNING:tensorflow:Layer lstm will not use cuDNN kernels since it doesn't meet the criteria. It will use a generic GPU kernel as fallback when running on GPU.\n",
            "Epoch 1/20\n",
            "382/723 [==============>...............] - ETA: 3:28:25 - loss: 5.6311 - accuracy: 0.0342"
          ]
        }
      ],
      "source": [
        "model = Sequential()\n",
        "model.add(Embedding(num_unique_words, 100, input_length=X.shape[1]))\n",
        "model.add(SpatialDropout1D(0.2))\n",
        "model.add(LSTM(100, dropout=0.2, recurrent_dropout=0.2))\n",
        "model.add(Dense(652, activation='softmax'))\n",
        "model.compile(loss='categorical_crossentropy', optimizer='adam', metrics=['accuracy'])\n",
        "\n",
        "epochs =20\n",
        "batch_size = 64\n",
        "\n",
        "history = model.fit(X_train, Y_train, epochs=epochs, batch_size=batch_size,callbacks=[EarlyStopping(patience=3, min_delta=0.0001)])"
      ]
    },
    {
      "cell_type": "code",
      "execution_count": null,
      "metadata": {
        "id": "c2dQ7NlGZXyu"
      },
      "outputs": [],
      "source": [
        "model.save('/content/drive/MyDrive/Arabic_Poems/Model')"
      ]
    },
    {
      "cell_type": "code",
      "execution_count": null,
      "metadata": {
        "id": "mxVm4g5OHCyR"
      },
      "outputs": [],
      "source": [
        ""
      ]
    }
  ],
  "metadata": {
    "accelerator": "GPU",
    "colab": {
      "collapsed_sections": [],
      "name": "ArabicPEOM",
      "provenance": [],
      "include_colab_link": true
    },
    "kernelspec": {
      "display_name": "Python 3 (ipykernel)",
      "language": "python",
      "name": "python3"
    },
    "language_info": {
      "codemirror_mode": {
        "name": "ipython",
        "version": 3
      },
      "file_extension": ".py",
      "mimetype": "text/x-python",
      "name": "python",
      "nbconvert_exporter": "python",
      "pygments_lexer": "ipython3",
      "version": "3.8.8"
    }
  },
  "nbformat": 4,
  "nbformat_minor": 0
}